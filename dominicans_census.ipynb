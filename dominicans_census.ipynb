{
 "cells": [
  {
   "cell_type": "code",
   "execution_count": 2,
   "metadata": {},
   "outputs": [],
   "source": [
    "import requests\n",
    "import pandas as pd\n",
    "import matplotlib.pyplot as plt\n",
    "import seaborn as sn\n",
    "import numpy as np\n",
    "pd.options.display.float_format = '{:,.0f}'.format"
   ]
  },
  {
   "cell_type": "code",
   "execution_count": 3,
   "metadata": {},
   "outputs": [],
   "source": [
    "# How is the Dominican poplulation determined in the census\n",
    "# What are the top 5 states with the hightest dominican population\n",
    "# What is the state with the fastest growing dominican population\n",
    "# which state has the highest percentage of dominican population relative to the entire state population\n",
    "# What is the projected dominican population in New york\n",
    "# which borouhgs in New York are experiencing the highest growth in dominicna population? New Jersery? Florida? Pennsilvania? Rhode Island?\n"
   ]
  },
  {
   "cell_type": "code",
   "execution_count": 4,
   "metadata": {},
   "outputs": [],
   "source": [
    "# Build base url\n",
    "HOST = 'https://api.census.gov/data'\n",
    "dataset = 'acs/acs1'\n",
    "\n",
    "# Specify Census variables and other predicates\n",
    "get_vars = ['NAME', 'B01003_001E', 'B03001_001E', 'B03001_007E']\n",
    "predicates = {}\n",
    "predicates['get'] = \",\".join(get_vars)\n",
    "predicates['for'] = \"state:*\"\n",
    "col_names = ['name', 'total_pop', 'total_hisc_pop', 'total_dominican_pop', 'state']\n"
   ]
  },
  {
   "cell_type": "code",
   "execution_count": 5,
   "metadata": {},
   "outputs": [],
   "source": [
    "# Loop over years 2005 to 2020\n",
    "dfs = []\n",
    "for year in range(2005, 2020):\n",
    "    base_url = '/'.join([HOST, str(year), dataset])\n",
    "    r = requests.get(base_url, params=predicates)\n",
    "    df = pd.DataFrame(columns=col_names, data=r.json()[1:])\n",
    "    df['year'] = year\n",
    "    dfs.append(df)"
   ]
  },
  {
   "cell_type": "code",
   "execution_count": 6,
   "metadata": {},
   "outputs": [],
   "source": [
    "df = pd.concat(dfs)"
   ]
  },
  {
   "cell_type": "code",
   "execution_count": 11,
   "metadata": {},
   "outputs": [
    {
     "name": "stdout",
     "output_type": "stream",
     "text": [
      "<class 'pandas.core.frame.DataFrame'>\n",
      "Int64Index: 780 entries, 0 to 51\n",
      "Data columns (total 6 columns):\n",
      " #   Column               Non-Null Count  Dtype \n",
      "---  ------               --------------  ----- \n",
      " 0   name                 780 non-null    object\n",
      " 1   total_pop            780 non-null    object\n",
      " 2   total_hisc_pop       636 non-null    object\n",
      " 3   total_dominican_pop  636 non-null    object\n",
      " 4   state                780 non-null    object\n",
      " 5   year                 780 non-null    int64 \n",
      "dtypes: int64(1), object(5)\n",
      "memory usage: 42.7+ KB\n"
     ]
    }
   ],
   "source": [
    "df.info()"
   ]
  },
  {
   "cell_type": "code",
   "execution_count": 12,
   "metadata": {},
   "outputs": [],
   "source": [
    "# Convert each column with numeric data to an appropriate type\n",
    "df['total_pop'] = df.total_pop.astype(float)\n",
    "df['total_hisc_pop'] = df.total_hisc_pop.astype(float)\n",
    "df['total_dominican_pop'] = df.total_dominican_pop.astype(float)"
   ]
  },
  {
   "cell_type": "code",
   "execution_count": 13,
   "metadata": {},
   "outputs": [],
   "source": [
    "# Convert df to time series\n",
    "df.set_index('year', inplace=True)"
   ]
  },
  {
   "cell_type": "code",
   "execution_count": 14,
   "metadata": {},
   "outputs": [],
   "source": [
    "df.index = pd.to_datetime(df.index, format = '%Y')"
   ]
  },
  {
   "cell_type": "code",
   "execution_count": 22,
   "metadata": {},
   "outputs": [],
   "source": [
    "df.to_csv(r'C:\\Users\\edwar\\data-science\\dominicans_us_census\\dominicans_usa.csv', header=True)"
   ]
  },
  {
   "cell_type": "code",
   "execution_count": 24,
   "metadata": {},
   "outputs": [],
   "source": [
    "df.to_excel(r'C:\\Users\\edwar\\data-science\\dominicans_us_census\\dominicans_usa.xlsx', header=True)"
   ]
  },
  {
   "cell_type": "code",
   "execution_count": 10,
   "metadata": {},
   "outputs": [
    {
     "data": {
      "text/html": [
       "<div>\n",
       "<style scoped>\n",
       "    .dataframe tbody tr th:only-of-type {\n",
       "        vertical-align: middle;\n",
       "    }\n",
       "\n",
       "    .dataframe tbody tr th {\n",
       "        vertical-align: top;\n",
       "    }\n",
       "\n",
       "    .dataframe thead th {\n",
       "        text-align: right;\n",
       "    }\n",
       "</style>\n",
       "<table border=\"1\" class=\"dataframe\">\n",
       "  <thead>\n",
       "    <tr style=\"text-align: right;\">\n",
       "      <th></th>\n",
       "      <th>name</th>\n",
       "      <th>total_pop</th>\n",
       "      <th>total_hisc_pop</th>\n",
       "      <th>total_dominican_pop</th>\n",
       "      <th>state</th>\n",
       "    </tr>\n",
       "    <tr>\n",
       "      <th>year</th>\n",
       "      <th></th>\n",
       "      <th></th>\n",
       "      <th></th>\n",
       "      <th></th>\n",
       "      <th></th>\n",
       "    </tr>\n",
       "  </thead>\n",
       "  <tbody>\n",
       "    <tr>\n",
       "      <th>2005-01-01</th>\n",
       "      <td>Alabama</td>\n",
       "      <td>4,442,558</td>\n",
       "      <td>4,442,558</td>\n",
       "      <td>178</td>\n",
       "      <td>01</td>\n",
       "    </tr>\n",
       "    <tr>\n",
       "      <th>2005-01-01</th>\n",
       "      <td>Alaska</td>\n",
       "      <td>641,724</td>\n",
       "      <td>nan</td>\n",
       "      <td>nan</td>\n",
       "      <td>02</td>\n",
       "    </tr>\n",
       "    <tr>\n",
       "      <th>2005-01-01</th>\n",
       "      <td>Arizona</td>\n",
       "      <td>5,829,839</td>\n",
       "      <td>5,829,839</td>\n",
       "      <td>1,989</td>\n",
       "      <td>04</td>\n",
       "    </tr>\n",
       "    <tr>\n",
       "      <th>2005-01-01</th>\n",
       "      <td>Arkansas</td>\n",
       "      <td>2,701,431</td>\n",
       "      <td>nan</td>\n",
       "      <td>nan</td>\n",
       "      <td>05</td>\n",
       "    </tr>\n",
       "    <tr>\n",
       "      <th>2005-01-01</th>\n",
       "      <td>California</td>\n",
       "      <td>35,278,768</td>\n",
       "      <td>35,278,768</td>\n",
       "      <td>12,086</td>\n",
       "      <td>06</td>\n",
       "    </tr>\n",
       "  </tbody>\n",
       "</table>\n",
       "</div>"
      ],
      "text/plain": [
       "                  name  total_pop  total_hisc_pop  total_dominican_pop state\n",
       "year                                                                        \n",
       "2005-01-01     Alabama  4,442,558       4,442,558                  178    01\n",
       "2005-01-01      Alaska    641,724             nan                  nan    02\n",
       "2005-01-01     Arizona  5,829,839       5,829,839                1,989    04\n",
       "2005-01-01    Arkansas  2,701,431             nan                  nan    05\n",
       "2005-01-01  California 35,278,768      35,278,768               12,086    06"
      ]
     },
     "execution_count": 10,
     "metadata": {},
     "output_type": "execute_result"
    }
   ],
   "source": [
    "df.head()"
   ]
  },
  {
   "cell_type": "code",
   "execution_count": 11,
   "metadata": {},
   "outputs": [
    {
     "data": {
      "text/plain": [
       "<matplotlib.axes._subplots.AxesSubplot at 0x28b1362ccd0>"
      ]
     },
     "execution_count": 11,
     "metadata": {},
     "output_type": "execute_result"
    },
    {
     "data": {
      "image/png": "[encoded data removed]",
      "text/plain": [
       "<Figure size 432x288 with 1 Axes>"
      ]
     },
     "metadata": {
      "needs_background": "light"
     },
     "output_type": "display_data"
    }
   ],
   "source": [
    "# Total dominican pop in the USA from 2005 to 2019\n",
    "df.total_dominican_pop.groupby('year').sum().plot()"
   ]
  },
  {
   "cell_type": "code",
   "execution_count": 12,
   "metadata": {},
   "outputs": [
    {
     "data": {
      "text/plain": [
       "<matplotlib.axes._subplots.AxesSubplot at 0x28b13db1f40>"
      ]
     },
     "execution_count": 12,
     "metadata": {},
     "output_type": "execute_result"
    },
    {
     "data": {
      "image/png": "[encoded data removed]",
      "text/plain": [
       "<Figure size 432x288 with 1 Axes>"
      ]
     },
     "metadata": {
      "needs_background": "light"
     },
     "output_type": "display_data"
    }
   ],
   "source": [
    "# Total dominican pop in New York from 2005 to 2019\n",
    "df[df.name == 'New York'].plot(y ='total_dominican_pop')"
   ]
  },
  {
   "cell_type": "code",
   "execution_count": 151,
   "metadata": {},
   "outputs": [
    {
     "data": {
      "text/plain": [
       "<matplotlib.axes._subplots.AxesSubplot at 0x28b1bbc8be0>"
      ]
     },
     "execution_count": 151,
     "metadata": {},
     "output_type": "execute_result"
    },
    {
     "data": {
      "image/png": "[encoded data removed]",
      "text/plain": [
       "<Figure size 432x288 with 1 Axes>"
      ]
     },
     "metadata": {
      "needs_background": "light"
     },
     "output_type": "display_data"
    }
   ],
   "source": [
    "df[df.name == 'New Jersey'].plot(y ='total_dominican_pop')"
   ]
  },
  {
   "cell_type": "code",
   "execution_count": 152,
   "metadata": {},
   "outputs": [
    {
     "data": {
      "text/plain": [
       "<matplotlib.axes._subplots.AxesSubplot at 0x28b1bcaeb80>"
      ]
     },
     "execution_count": 152,
     "metadata": {},
     "output_type": "execute_result"
    },
    {
     "data": {
      "image/png": "[encoded data removed]",
      "text/plain": [
       "<Figure size 432x288 with 1 Axes>"
      ]
     },
     "metadata": {
      "needs_background": "light"
     },
     "output_type": "display_data"
    }
   ],
   "source": [
    "df[df.name == 'Florida'].plot(y ='total_dominican_pop')"
   ]
  },
  {
   "cell_type": "code",
   "execution_count": 153,
   "metadata": {
    "scrolled": true
   },
   "outputs": [
    {
     "data": {
      "text/plain": [
       "<matplotlib.axes._subplots.AxesSubplot at 0x28b1bd00e80>"
      ]
     },
     "execution_count": 153,
     "metadata": {},
     "output_type": "execute_result"
    },
    {
     "data": {
      "image/png": "[encoded data removed]",
      "text/plain": [
       "<Figure size 432x288 with 1 Axes>"
      ]
     },
     "metadata": {
      "needs_background": "light"
     },
     "output_type": "display_data"
    }
   ],
   "source": [
    "df[df.name == 'Pennsylvania'].plot(y ='total_dominican_pop')"
   ]
  },
  {
   "cell_type": "code",
   "execution_count": 154,
   "metadata": {},
   "outputs": [
    {
     "data": {
      "text/plain": [
       "<matplotlib.axes._subplots.AxesSubplot at 0x28b1bd395e0>"
      ]
     },
     "execution_count": 154,
     "metadata": {},
     "output_type": "execute_result"
    },
    {
     "data": {
      "image/png": "[encoded data removed]",
      "text/plain": [
       "<Figure size 432x288 with 1 Axes>"
      ]
     },
     "metadata": {
      "needs_background": "light"
     },
     "output_type": "display_data"
    }
   ],
   "source": [
    "df[df.name == 'Georgia'].plot(y ='total_dominican_pop')"
   ]
  },
  {
   "cell_type": "code",
   "execution_count": 13,
   "metadata": {},
   "outputs": [],
   "source": [
    "df_pivot = df.pivot_table(values='total_dominican_pop', index='name', columns='year' )"
   ]
  },
  {
   "cell_type": "code",
   "execution_count": 27,
   "metadata": {},
   "outputs": [],
   "source": [
    "# fig, ax = plt.subplots(figsize=(16,3))\n",
    "# # df[df.name == 'Arizona'].plot(y='total_dominican_pop')\n",
    "# ax."
   ]
  },
  {
   "cell_type": "code",
   "execution_count": 28,
   "metadata": {},
   "outputs": [
    {
     "data": {
      "text/html": [
       "<div>\n",
       "<style scoped>\n",
       "    .dataframe tbody tr th:only-of-type {\n",
       "        vertical-align: middle;\n",
       "    }\n",
       "\n",
       "    .dataframe tbody tr th {\n",
       "        vertical-align: top;\n",
       "    }\n",
       "\n",
       "    .dataframe thead th {\n",
       "        text-align: right;\n",
       "    }\n",
       "</style>\n",
       "<table border=\"1\" class=\"dataframe\">\n",
       "  <thead>\n",
       "    <tr style=\"text-align: right;\">\n",
       "      <th>year</th>\n",
       "      <th>2005-01-01</th>\n",
       "      <th>2006-01-01</th>\n",
       "      <th>2007-01-01</th>\n",
       "      <th>2008-01-01</th>\n",
       "      <th>2009-01-01</th>\n",
       "      <th>2010-01-01</th>\n",
       "      <th>2011-01-01</th>\n",
       "      <th>2012-01-01</th>\n",
       "      <th>2013-01-01</th>\n",
       "      <th>2014-01-01</th>\n",
       "      <th>2015-01-01</th>\n",
       "      <th>2016-01-01</th>\n",
       "      <th>2017-01-01</th>\n",
       "      <th>2018-01-01</th>\n",
       "      <th>2019-01-01</th>\n",
       "    </tr>\n",
       "    <tr>\n",
       "      <th>name</th>\n",
       "      <th></th>\n",
       "      <th></th>\n",
       "      <th></th>\n",
       "      <th></th>\n",
       "      <th></th>\n",
       "      <th></th>\n",
       "      <th></th>\n",
       "      <th></th>\n",
       "      <th></th>\n",
       "      <th></th>\n",
       "      <th></th>\n",
       "      <th></th>\n",
       "      <th></th>\n",
       "      <th></th>\n",
       "      <th></th>\n",
       "    </tr>\n",
       "  </thead>\n",
       "  <tbody>\n",
       "    <tr>\n",
       "      <th>Alabama</th>\n",
       "      <td>178</td>\n",
       "      <td>137</td>\n",
       "      <td>354</td>\n",
       "      <td>943</td>\n",
       "      <td>616</td>\n",
       "      <td>600</td>\n",
       "      <td>1,100</td>\n",
       "      <td>963</td>\n",
       "      <td>238</td>\n",
       "      <td>1,198</td>\n",
       "      <td>1,902</td>\n",
       "      <td>837</td>\n",
       "      <td>1,327</td>\n",
       "      <td>1,356</td>\n",
       "      <td>2,959</td>\n",
       "    </tr>\n",
       "    <tr>\n",
       "      <th>Alaska</th>\n",
       "      <td>nan</td>\n",
       "      <td>nan</td>\n",
       "      <td>nan</td>\n",
       "      <td>nan</td>\n",
       "      <td>3,351</td>\n",
       "      <td>nan</td>\n",
       "      <td>nan</td>\n",
       "      <td>1,990</td>\n",
       "      <td>701</td>\n",
       "      <td>2,360</td>\n",
       "      <td>nan</td>\n",
       "      <td>nan</td>\n",
       "      <td>nan</td>\n",
       "      <td>nan</td>\n",
       "      <td>nan</td>\n",
       "    </tr>\n",
       "    <tr>\n",
       "      <th>Arizona</th>\n",
       "      <td>1,989</td>\n",
       "      <td>2,110</td>\n",
       "      <td>1,584</td>\n",
       "      <td>2,783</td>\n",
       "      <td>3,980</td>\n",
       "      <td>2,693</td>\n",
       "      <td>2,757</td>\n",
       "      <td>1,968</td>\n",
       "      <td>3,224</td>\n",
       "      <td>3,341</td>\n",
       "      <td>6,247</td>\n",
       "      <td>5,345</td>\n",
       "      <td>5,936</td>\n",
       "      <td>4,583</td>\n",
       "      <td>6,267</td>\n",
       "    </tr>\n",
       "    <tr>\n",
       "      <th>Arkansas</th>\n",
       "      <td>nan</td>\n",
       "      <td>706</td>\n",
       "      <td>nan</td>\n",
       "      <td>nan</td>\n",
       "      <td>537</td>\n",
       "      <td>153</td>\n",
       "      <td>325</td>\n",
       "      <td>nan</td>\n",
       "      <td>182</td>\n",
       "      <td>366</td>\n",
       "      <td>1,744</td>\n",
       "      <td>329</td>\n",
       "      <td>153</td>\n",
       "      <td>0</td>\n",
       "      <td>563</td>\n",
       "    </tr>\n",
       "    <tr>\n",
       "      <th>California</th>\n",
       "      <td>12,086</td>\n",
       "      <td>5,915</td>\n",
       "      <td>12,863</td>\n",
       "      <td>8,369</td>\n",
       "      <td>10,327</td>\n",
       "      <td>11,079</td>\n",
       "      <td>14,286</td>\n",
       "      <td>18,626</td>\n",
       "      <td>16,458</td>\n",
       "      <td>15,157</td>\n",
       "      <td>16,098</td>\n",
       "      <td>14,778</td>\n",
       "      <td>18,381</td>\n",
       "      <td>19,305</td>\n",
       "      <td>16,422</td>\n",
       "    </tr>\n",
       "    <tr>\n",
       "      <th>Colorado</th>\n",
       "      <td>511</td>\n",
       "      <td>1,648</td>\n",
       "      <td>892</td>\n",
       "      <td>2,521</td>\n",
       "      <td>737</td>\n",
       "      <td>1,869</td>\n",
       "      <td>2,600</td>\n",
       "      <td>2,639</td>\n",
       "      <td>2,275</td>\n",
       "      <td>1,638</td>\n",
       "      <td>3,068</td>\n",
       "      <td>2,634</td>\n",
       "      <td>4,870</td>\n",
       "      <td>3,371</td>\n",
       "      <td>4,920</td>\n",
       "    </tr>\n",
       "    <tr>\n",
       "      <th>Connecticut</th>\n",
       "      <td>14,809</td>\n",
       "      <td>17,213</td>\n",
       "      <td>17,888</td>\n",
       "      <td>21,842</td>\n",
       "      <td>27,686</td>\n",
       "      <td>28,242</td>\n",
       "      <td>23,466</td>\n",
       "      <td>34,754</td>\n",
       "      <td>36,699</td>\n",
       "      <td>30,408</td>\n",
       "      <td>38,047</td>\n",
       "      <td>41,917</td>\n",
       "      <td>40,343</td>\n",
       "      <td>50,399</td>\n",
       "      <td>46,228</td>\n",
       "    </tr>\n",
       "    <tr>\n",
       "      <th>Delaware</th>\n",
       "      <td>726</td>\n",
       "      <td>nan</td>\n",
       "      <td>nan</td>\n",
       "      <td>nan</td>\n",
       "      <td>nan</td>\n",
       "      <td>1,452</td>\n",
       "      <td>1,626</td>\n",
       "      <td>2,661</td>\n",
       "      <td>1,906</td>\n",
       "      <td>2,274</td>\n",
       "      <td>4,443</td>\n",
       "      <td>3,760</td>\n",
       "      <td>3,672</td>\n",
       "      <td>4,386</td>\n",
       "      <td>2,163</td>\n",
       "    </tr>\n",
       "    <tr>\n",
       "      <th>District of Columbia</th>\n",
       "      <td>2,689</td>\n",
       "      <td>2,482</td>\n",
       "      <td>4,767</td>\n",
       "      <td>2,649</td>\n",
       "      <td>1,161</td>\n",
       "      <td>2,649</td>\n",
       "      <td>2,529</td>\n",
       "      <td>3,681</td>\n",
       "      <td>3,942</td>\n",
       "      <td>1,948</td>\n",
       "      <td>2,354</td>\n",
       "      <td>4,112</td>\n",
       "      <td>3,744</td>\n",
       "      <td>5,894</td>\n",
       "      <td>9,251</td>\n",
       "    </tr>\n",
       "    <tr>\n",
       "      <th>Florida</th>\n",
       "      <td>121,675</td>\n",
       "      <td>136,891</td>\n",
       "      <td>141,948</td>\n",
       "      <td>153,354</td>\n",
       "      <td>160,683</td>\n",
       "      <td>174,276</td>\n",
       "      <td>178,010</td>\n",
       "      <td>210,068</td>\n",
       "      <td>198,197</td>\n",
       "      <td>216,202</td>\n",
       "      <td>207,193</td>\n",
       "      <td>221,070</td>\n",
       "      <td>259,779</td>\n",
       "      <td>237,844</td>\n",
       "      <td>254,148</td>\n",
       "    </tr>\n",
       "    <tr>\n",
       "      <th>Georgia</th>\n",
       "      <td>4,290</td>\n",
       "      <td>8,891</td>\n",
       "      <td>8,341</td>\n",
       "      <td>16,356</td>\n",
       "      <td>15,949</td>\n",
       "      <td>20,824</td>\n",
       "      <td>12,479</td>\n",
       "      <td>18,671</td>\n",
       "      <td>23,237</td>\n",
       "      <td>19,014</td>\n",
       "      <td>24,102</td>\n",
       "      <td>23,223</td>\n",
       "      <td>31,014</td>\n",
       "      <td>22,927</td>\n",
       "      <td>28,172</td>\n",
       "    </tr>\n",
       "    <tr>\n",
       "      <th>Hawaii</th>\n",
       "      <td>nan</td>\n",
       "      <td>nan</td>\n",
       "      <td>nan</td>\n",
       "      <td>520</td>\n",
       "      <td>nan</td>\n",
       "      <td>326</td>\n",
       "      <td>844</td>\n",
       "      <td>1,432</td>\n",
       "      <td>907</td>\n",
       "      <td>750</td>\n",
       "      <td>1,554</td>\n",
       "      <td>1,065</td>\n",
       "      <td>1,843</td>\n",
       "      <td>525</td>\n",
       "      <td>1,055</td>\n",
       "    </tr>\n",
       "    <tr>\n",
       "      <th>Idaho</th>\n",
       "      <td>nan</td>\n",
       "      <td>nan</td>\n",
       "      <td>nan</td>\n",
       "      <td>177</td>\n",
       "      <td>126</td>\n",
       "      <td>796</td>\n",
       "      <td>nan</td>\n",
       "      <td>203</td>\n",
       "      <td>nan</td>\n",
       "      <td>nan</td>\n",
       "      <td>48</td>\n",
       "      <td>1,006</td>\n",
       "      <td>nan</td>\n",
       "      <td>nan</td>\n",
       "      <td>1,266</td>\n",
       "    </tr>\n",
       "    <tr>\n",
       "      <th>Illinois</th>\n",
       "      <td>4,467</td>\n",
       "      <td>4,651</td>\n",
       "      <td>4,391</td>\n",
       "      <td>6,036</td>\n",
       "      <td>7,546</td>\n",
       "      <td>5,311</td>\n",
       "      <td>9,599</td>\n",
       "      <td>5,515</td>\n",
       "      <td>7,771</td>\n",
       "      <td>6,052</td>\n",
       "      <td>7,068</td>\n",
       "      <td>5,779</td>\n",
       "      <td>9,911</td>\n",
       "      <td>7,142</td>\n",
       "      <td>7,999</td>\n",
       "    </tr>\n",
       "    <tr>\n",
       "      <th>Indiana</th>\n",
       "      <td>927</td>\n",
       "      <td>1,217</td>\n",
       "      <td>2,013</td>\n",
       "      <td>1,493</td>\n",
       "      <td>2,188</td>\n",
       "      <td>3,172</td>\n",
       "      <td>2,344</td>\n",
       "      <td>3,073</td>\n",
       "      <td>2,694</td>\n",
       "      <td>2,999</td>\n",
       "      <td>3,717</td>\n",
       "      <td>3,337</td>\n",
       "      <td>3,443</td>\n",
       "      <td>5,407</td>\n",
       "      <td>3,068</td>\n",
       "    </tr>\n",
       "    <tr>\n",
       "      <th>Iowa</th>\n",
       "      <td>nan</td>\n",
       "      <td>67</td>\n",
       "      <td>178</td>\n",
       "      <td>96</td>\n",
       "      <td>735</td>\n",
       "      <td>439</td>\n",
       "      <td>165</td>\n",
       "      <td>377</td>\n",
       "      <td>1,014</td>\n",
       "      <td>211</td>\n",
       "      <td>401</td>\n",
       "      <td>612</td>\n",
       "      <td>649</td>\n",
       "      <td>189</td>\n",
       "      <td>969</td>\n",
       "    </tr>\n",
       "    <tr>\n",
       "      <th>Kansas</th>\n",
       "      <td>nan</td>\n",
       "      <td>116</td>\n",
       "      <td>170</td>\n",
       "      <td>76</td>\n",
       "      <td>202</td>\n",
       "      <td>1,025</td>\n",
       "      <td>719</td>\n",
       "      <td>627</td>\n",
       "      <td>766</td>\n",
       "      <td>1,732</td>\n",
       "      <td>840</td>\n",
       "      <td>770</td>\n",
       "      <td>1,683</td>\n",
       "      <td>1,110</td>\n",
       "      <td>1,858</td>\n",
       "    </tr>\n",
       "    <tr>\n",
       "      <th>Kentucky</th>\n",
       "      <td>1,210</td>\n",
       "      <td>230</td>\n",
       "      <td>589</td>\n",
       "      <td>511</td>\n",
       "      <td>184</td>\n",
       "      <td>1,435</td>\n",
       "      <td>1,335</td>\n",
       "      <td>2,320</td>\n",
       "      <td>1,458</td>\n",
       "      <td>1,862</td>\n",
       "      <td>1,262</td>\n",
       "      <td>1,015</td>\n",
       "      <td>856</td>\n",
       "      <td>1,161</td>\n",
       "      <td>1,452</td>\n",
       "    </tr>\n",
       "    <tr>\n",
       "      <th>Louisiana</th>\n",
       "      <td>729</td>\n",
       "      <td>2,109</td>\n",
       "      <td>1,130</td>\n",
       "      <td>2,568</td>\n",
       "      <td>2,757</td>\n",
       "      <td>2,311</td>\n",
       "      <td>6,145</td>\n",
       "      <td>6,193</td>\n",
       "      <td>4,997</td>\n",
       "      <td>4,171</td>\n",
       "      <td>5,627</td>\n",
       "      <td>3,625</td>\n",
       "      <td>6,662</td>\n",
       "      <td>6,828</td>\n",
       "      <td>6,297</td>\n",
       "    </tr>\n",
       "    <tr>\n",
       "      <th>Maine</th>\n",
       "      <td>nan</td>\n",
       "      <td>nan</td>\n",
       "      <td>nan</td>\n",
       "      <td>nan</td>\n",
       "      <td>nan</td>\n",
       "      <td>nan</td>\n",
       "      <td>nan</td>\n",
       "      <td>nan</td>\n",
       "      <td>nan</td>\n",
       "      <td>1,025</td>\n",
       "      <td>nan</td>\n",
       "      <td>1,843</td>\n",
       "      <td>nan</td>\n",
       "      <td>nan</td>\n",
       "      <td>661</td>\n",
       "    </tr>\n",
       "    <tr>\n",
       "      <th>Maryland</th>\n",
       "      <td>9,096</td>\n",
       "      <td>9,694</td>\n",
       "      <td>6,713</td>\n",
       "      <td>12,798</td>\n",
       "      <td>11,256</td>\n",
       "      <td>13,844</td>\n",
       "      <td>16,964</td>\n",
       "      <td>18,997</td>\n",
       "      <td>21,352</td>\n",
       "      <td>20,155</td>\n",
       "      <td>14,956</td>\n",
       "      <td>20,906</td>\n",
       "      <td>24,969</td>\n",
       "      <td>26,503</td>\n",
       "      <td>22,606</td>\n",
       "    </tr>\n",
       "    <tr>\n",
       "      <th>Massachusetts</th>\n",
       "      <td>81,136</td>\n",
       "      <td>83,700</td>\n",
       "      <td>83,758</td>\n",
       "      <td>96,577</td>\n",
       "      <td>105,610</td>\n",
       "      <td>118,656</td>\n",
       "      <td>115,741</td>\n",
       "      <td>121,552</td>\n",
       "      <td>151,504</td>\n",
       "      <td>133,321</td>\n",
       "      <td>132,864</td>\n",
       "      <td>146,038</td>\n",
       "      <td>172,577</td>\n",
       "      <td>167,333</td>\n",
       "      <td>157,027</td>\n",
       "    </tr>\n",
       "    <tr>\n",
       "      <th>Michigan</th>\n",
       "      <td>2,426</td>\n",
       "      <td>2,892</td>\n",
       "      <td>1,324</td>\n",
       "      <td>3,307</td>\n",
       "      <td>2,689</td>\n",
       "      <td>4,009</td>\n",
       "      <td>4,774</td>\n",
       "      <td>5,874</td>\n",
       "      <td>5,470</td>\n",
       "      <td>5,878</td>\n",
       "      <td>7,855</td>\n",
       "      <td>4,325</td>\n",
       "      <td>7,870</td>\n",
       "      <td>6,602</td>\n",
       "      <td>8,990</td>\n",
       "    </tr>\n",
       "    <tr>\n",
       "      <th>Minnesota</th>\n",
       "      <td>845</td>\n",
       "      <td>828</td>\n",
       "      <td>830</td>\n",
       "      <td>314</td>\n",
       "      <td>720</td>\n",
       "      <td>1,590</td>\n",
       "      <td>1,675</td>\n",
       "      <td>2,190</td>\n",
       "      <td>1,162</td>\n",
       "      <td>2,665</td>\n",
       "      <td>1,511</td>\n",
       "      <td>4,237</td>\n",
       "      <td>2,767</td>\n",
       "      <td>1,604</td>\n",
       "      <td>2,091</td>\n",
       "    </tr>\n",
       "    <tr>\n",
       "      <th>Mississippi</th>\n",
       "      <td>nan</td>\n",
       "      <td>nan</td>\n",
       "      <td>nan</td>\n",
       "      <td>543</td>\n",
       "      <td>719</td>\n",
       "      <td>426</td>\n",
       "      <td>nan</td>\n",
       "      <td>665</td>\n",
       "      <td>1,080</td>\n",
       "      <td>1,170</td>\n",
       "      <td>847</td>\n",
       "      <td>1,772</td>\n",
       "      <td>2,904</td>\n",
       "      <td>2,173</td>\n",
       "      <td>3,135</td>\n",
       "    </tr>\n",
       "    <tr>\n",
       "      <th>Missouri</th>\n",
       "      <td>1,091</td>\n",
       "      <td>964</td>\n",
       "      <td>573</td>\n",
       "      <td>726</td>\n",
       "      <td>1,772</td>\n",
       "      <td>1,722</td>\n",
       "      <td>2,148</td>\n",
       "      <td>1,426</td>\n",
       "      <td>2,811</td>\n",
       "      <td>2,775</td>\n",
       "      <td>1,579</td>\n",
       "      <td>1,982</td>\n",
       "      <td>2,520</td>\n",
       "      <td>1,211</td>\n",
       "      <td>3,028</td>\n",
       "    </tr>\n",
       "    <tr>\n",
       "      <th>Nebraska</th>\n",
       "      <td>nan</td>\n",
       "      <td>111</td>\n",
       "      <td>nan</td>\n",
       "      <td>202</td>\n",
       "      <td>nan</td>\n",
       "      <td>918</td>\n",
       "      <td>499</td>\n",
       "      <td>502</td>\n",
       "      <td>496</td>\n",
       "      <td>416</td>\n",
       "      <td>448</td>\n",
       "      <td>890</td>\n",
       "      <td>210</td>\n",
       "      <td>606</td>\n",
       "      <td>676</td>\n",
       "    </tr>\n",
       "    <tr>\n",
       "      <th>Nevada</th>\n",
       "      <td>782</td>\n",
       "      <td>2,006</td>\n",
       "      <td>2,754</td>\n",
       "      <td>3,522</td>\n",
       "      <td>2,634</td>\n",
       "      <td>1,815</td>\n",
       "      <td>1,409</td>\n",
       "      <td>2,380</td>\n",
       "      <td>5,505</td>\n",
       "      <td>3,425</td>\n",
       "      <td>3,242</td>\n",
       "      <td>4,313</td>\n",
       "      <td>4,805</td>\n",
       "      <td>3,754</td>\n",
       "      <td>5,234</td>\n",
       "    </tr>\n",
       "    <tr>\n",
       "      <th>New Hampshire</th>\n",
       "      <td>nan</td>\n",
       "      <td>nan</td>\n",
       "      <td>nan</td>\n",
       "      <td>3,006</td>\n",
       "      <td>nan</td>\n",
       "      <td>nan</td>\n",
       "      <td>2,014</td>\n",
       "      <td>2,693</td>\n",
       "      <td>6,228</td>\n",
       "      <td>6,023</td>\n",
       "      <td>6,001</td>\n",
       "      <td>5,809</td>\n",
       "      <td>8,223</td>\n",
       "      <td>9,471</td>\n",
       "      <td>10,197</td>\n",
       "    </tr>\n",
       "    <tr>\n",
       "      <th>New Jersey</th>\n",
       "      <td>159,118</td>\n",
       "      <td>167,689</td>\n",
       "      <td>171,001</td>\n",
       "      <td>176,994</td>\n",
       "      <td>168,229</td>\n",
       "      <td>204,699</td>\n",
       "      <td>221,623</td>\n",
       "      <td>233,065</td>\n",
       "      <td>240,871</td>\n",
       "      <td>255,013</td>\n",
       "      <td>276,707</td>\n",
       "      <td>271,169</td>\n",
       "      <td>301,655</td>\n",
       "      <td>311,213</td>\n",
       "      <td>343,725</td>\n",
       "    </tr>\n",
       "    <tr>\n",
       "      <th>New Mexico</th>\n",
       "      <td>156</td>\n",
       "      <td>864</td>\n",
       "      <td>958</td>\n",
       "      <td>171</td>\n",
       "      <td>971</td>\n",
       "      <td>249</td>\n",
       "      <td>443</td>\n",
       "      <td>1,128</td>\n",
       "      <td>572</td>\n",
       "      <td>968</td>\n",
       "      <td>2,578</td>\n",
       "      <td>1,345</td>\n",
       "      <td>1,138</td>\n",
       "      <td>425</td>\n",
       "      <td>939</td>\n",
       "    </tr>\n",
       "    <tr>\n",
       "      <th>New York</th>\n",
       "      <td>602,285</td>\n",
       "      <td>659,962</td>\n",
       "      <td>630,742</td>\n",
       "      <td>678,881</td>\n",
       "      <td>672,145</td>\n",
       "      <td>725,123</td>\n",
       "      <td>743,644</td>\n",
       "      <td>764,454</td>\n",
       "      <td>827,586</td>\n",
       "      <td>806,078</td>\n",
       "      <td>868,173</td>\n",
       "      <td>871,525</td>\n",
       "      <td>872,504</td>\n",
       "      <td>877,519</td>\n",
       "      <td>842,307</td>\n",
       "    </tr>\n",
       "    <tr>\n",
       "      <th>North Carolina</th>\n",
       "      <td>4,597</td>\n",
       "      <td>7,138</td>\n",
       "      <td>10,254</td>\n",
       "      <td>12,693</td>\n",
       "      <td>12,961</td>\n",
       "      <td>15,013</td>\n",
       "      <td>21,734</td>\n",
       "      <td>15,157</td>\n",
       "      <td>13,873</td>\n",
       "      <td>17,977</td>\n",
       "      <td>19,884</td>\n",
       "      <td>21,838</td>\n",
       "      <td>19,787</td>\n",
       "      <td>30,172</td>\n",
       "      <td>32,880</td>\n",
       "    </tr>\n",
       "    <tr>\n",
       "      <th>Ohio</th>\n",
       "      <td>4,199</td>\n",
       "      <td>4,235</td>\n",
       "      <td>1,459</td>\n",
       "      <td>5,593</td>\n",
       "      <td>4,977</td>\n",
       "      <td>8,179</td>\n",
       "      <td>8,502</td>\n",
       "      <td>9,715</td>\n",
       "      <td>5,585</td>\n",
       "      <td>10,591</td>\n",
       "      <td>8,531</td>\n",
       "      <td>9,101</td>\n",
       "      <td>15,943</td>\n",
       "      <td>12,092</td>\n",
       "      <td>9,955</td>\n",
       "    </tr>\n",
       "    <tr>\n",
       "      <th>Oklahoma</th>\n",
       "      <td>422</td>\n",
       "      <td>145</td>\n",
       "      <td>317</td>\n",
       "      <td>723</td>\n",
       "      <td>611</td>\n",
       "      <td>780</td>\n",
       "      <td>376</td>\n",
       "      <td>1,157</td>\n",
       "      <td>681</td>\n",
       "      <td>1,188</td>\n",
       "      <td>392</td>\n",
       "      <td>1,205</td>\n",
       "      <td>1,283</td>\n",
       "      <td>1,545</td>\n",
       "      <td>1,112</td>\n",
       "    </tr>\n",
       "    <tr>\n",
       "      <th>Oregon</th>\n",
       "      <td>0</td>\n",
       "      <td>226</td>\n",
       "      <td>463</td>\n",
       "      <td>597</td>\n",
       "      <td>819</td>\n",
       "      <td>1,166</td>\n",
       "      <td>1,738</td>\n",
       "      <td>791</td>\n",
       "      <td>803</td>\n",
       "      <td>474</td>\n",
       "      <td>705</td>\n",
       "      <td>466</td>\n",
       "      <td>678</td>\n",
       "      <td>1,115</td>\n",
       "      <td>1,473</td>\n",
       "    </tr>\n",
       "    <tr>\n",
       "      <th>Pennsylvania</th>\n",
       "      <td>29,446</td>\n",
       "      <td>36,091</td>\n",
       "      <td>35,694</td>\n",
       "      <td>47,653</td>\n",
       "      <td>55,440</td>\n",
       "      <td>66,345</td>\n",
       "      <td>70,506</td>\n",
       "      <td>73,739</td>\n",
       "      <td>80,514</td>\n",
       "      <td>83,820</td>\n",
       "      <td>96,909</td>\n",
       "      <td>103,331</td>\n",
       "      <td>127,505</td>\n",
       "      <td>138,181</td>\n",
       "      <td>133,560</td>\n",
       "    </tr>\n",
       "    <tr>\n",
       "      <th>Puerto Rico</th>\n",
       "      <td>66,117</td>\n",
       "      <td>69,854</td>\n",
       "      <td>64,922</td>\n",
       "      <td>72,157</td>\n",
       "      <td>68,370</td>\n",
       "      <td>69,305</td>\n",
       "      <td>71,244</td>\n",
       "      <td>65,815</td>\n",
       "      <td>63,096</td>\n",
       "      <td>58,291</td>\n",
       "      <td>62,452</td>\n",
       "      <td>58,751</td>\n",
       "      <td>55,860</td>\n",
       "      <td>52,604</td>\n",
       "      <td>53,703</td>\n",
       "    </tr>\n",
       "    <tr>\n",
       "      <th>Rhode Island</th>\n",
       "      <td>30,888</td>\n",
       "      <td>30,876</td>\n",
       "      <td>33,229</td>\n",
       "      <td>30,360</td>\n",
       "      <td>41,368</td>\n",
       "      <td>45,277</td>\n",
       "      <td>37,147</td>\n",
       "      <td>37,481</td>\n",
       "      <td>46,266</td>\n",
       "      <td>46,422</td>\n",
       "      <td>50,274</td>\n",
       "      <td>52,771</td>\n",
       "      <td>52,070</td>\n",
       "      <td>52,645</td>\n",
       "      <td>55,220</td>\n",
       "    </tr>\n",
       "    <tr>\n",
       "      <th>South Carolina</th>\n",
       "      <td>1,227</td>\n",
       "      <td>626</td>\n",
       "      <td>1,048</td>\n",
       "      <td>1,556</td>\n",
       "      <td>1,236</td>\n",
       "      <td>2,091</td>\n",
       "      <td>2,798</td>\n",
       "      <td>5,891</td>\n",
       "      <td>6,088</td>\n",
       "      <td>3,985</td>\n",
       "      <td>4,582</td>\n",
       "      <td>4,202</td>\n",
       "      <td>3,275</td>\n",
       "      <td>5,355</td>\n",
       "      <td>4,988</td>\n",
       "    </tr>\n",
       "    <tr>\n",
       "      <th>Tennessee</th>\n",
       "      <td>654</td>\n",
       "      <td>1,872</td>\n",
       "      <td>712</td>\n",
       "      <td>464</td>\n",
       "      <td>2,028</td>\n",
       "      <td>3,149</td>\n",
       "      <td>2,182</td>\n",
       "      <td>2,769</td>\n",
       "      <td>1,726</td>\n",
       "      <td>3,581</td>\n",
       "      <td>2,637</td>\n",
       "      <td>4,320</td>\n",
       "      <td>4,240</td>\n",
       "      <td>3,426</td>\n",
       "      <td>2,919</td>\n",
       "    </tr>\n",
       "    <tr>\n",
       "      <th>Texas</th>\n",
       "      <td>10,216</td>\n",
       "      <td>6,816</td>\n",
       "      <td>10,509</td>\n",
       "      <td>14,235</td>\n",
       "      <td>12,807</td>\n",
       "      <td>13,038</td>\n",
       "      <td>14,195</td>\n",
       "      <td>14,925</td>\n",
       "      <td>12,914</td>\n",
       "      <td>21,482</td>\n",
       "      <td>18,868</td>\n",
       "      <td>17,507</td>\n",
       "      <td>27,648</td>\n",
       "      <td>24,409</td>\n",
       "      <td>24,427</td>\n",
       "    </tr>\n",
       "    <tr>\n",
       "      <th>Utah</th>\n",
       "      <td>415</td>\n",
       "      <td>694</td>\n",
       "      <td>1,923</td>\n",
       "      <td>1,012</td>\n",
       "      <td>672</td>\n",
       "      <td>950</td>\n",
       "      <td>2,308</td>\n",
       "      <td>2,025</td>\n",
       "      <td>3,148</td>\n",
       "      <td>1,626</td>\n",
       "      <td>3,164</td>\n",
       "      <td>2,153</td>\n",
       "      <td>880</td>\n",
       "      <td>3,513</td>\n",
       "      <td>1,645</td>\n",
       "    </tr>\n",
       "    <tr>\n",
       "      <th>Virginia</th>\n",
       "      <td>5,627</td>\n",
       "      <td>5,531</td>\n",
       "      <td>6,868</td>\n",
       "      <td>9,433</td>\n",
       "      <td>8,311</td>\n",
       "      <td>10,033</td>\n",
       "      <td>12,487</td>\n",
       "      <td>14,942</td>\n",
       "      <td>9,262</td>\n",
       "      <td>13,372</td>\n",
       "      <td>14,476</td>\n",
       "      <td>15,845</td>\n",
       "      <td>16,419</td>\n",
       "      <td>16,004</td>\n",
       "      <td>18,429</td>\n",
       "    </tr>\n",
       "    <tr>\n",
       "      <th>Washington</th>\n",
       "      <td>1,120</td>\n",
       "      <td>285</td>\n",
       "      <td>1,743</td>\n",
       "      <td>840</td>\n",
       "      <td>1,353</td>\n",
       "      <td>1,289</td>\n",
       "      <td>2,382</td>\n",
       "      <td>2,870</td>\n",
       "      <td>2,298</td>\n",
       "      <td>2,821</td>\n",
       "      <td>3,449</td>\n",
       "      <td>2,371</td>\n",
       "      <td>5,544</td>\n",
       "      <td>2,855</td>\n",
       "      <td>2,579</td>\n",
       "    </tr>\n",
       "    <tr>\n",
       "      <th>West Virginia</th>\n",
       "      <td>nan</td>\n",
       "      <td>nan</td>\n",
       "      <td>nan</td>\n",
       "      <td>nan</td>\n",
       "      <td>nan</td>\n",
       "      <td>nan</td>\n",
       "      <td>nan</td>\n",
       "      <td>nan</td>\n",
       "      <td>349</td>\n",
       "      <td>464</td>\n",
       "      <td>232</td>\n",
       "      <td>nan</td>\n",
       "      <td>nan</td>\n",
       "      <td>nan</td>\n",
       "      <td>nan</td>\n",
       "    </tr>\n",
       "    <tr>\n",
       "      <th>Wisconsin</th>\n",
       "      <td>1,015</td>\n",
       "      <td>1,813</td>\n",
       "      <td>876</td>\n",
       "      <td>939</td>\n",
       "      <td>1,136</td>\n",
       "      <td>2,414</td>\n",
       "      <td>1,896</td>\n",
       "      <td>3,001</td>\n",
       "      <td>2,051</td>\n",
       "      <td>1,263</td>\n",
       "      <td>1,980</td>\n",
       "      <td>2,296</td>\n",
       "      <td>2,578</td>\n",
       "      <td>3,918</td>\n",
       "      <td>4,419</td>\n",
       "    </tr>\n",
       "  </tbody>\n",
       "</table>\n",
       "</div>"
      ],
      "text/plain": [
       "year                  2005-01-01  2006-01-01  2007-01-01  2008-01-01  \\\n",
       "name                                                                   \n",
       "Alabama                      178         137         354         943   \n",
       "Alaska                       nan         nan         nan         nan   \n",
       "Arizona                    1,989       2,110       1,584       2,783   \n",
       "Arkansas                     nan         706         nan         nan   \n",
       "California                12,086       5,915      12,863       8,369   \n",
       "Colorado                     511       1,648         892       2,521   \n",
       "Connecticut               14,809      17,213      17,888      21,842   \n",
       "Delaware                     726         nan         nan         nan   \n",
       "District of Columbia       2,689       2,482       4,767       2,649   \n",
       "Florida                  121,675     136,891     141,948     153,354   \n",
       "Georgia                    4,290       8,891       8,341      16,356   \n",
       "Hawaii                       nan         nan         nan         520   \n",
       "Idaho                        nan         nan         nan         177   \n",
       "Illinois                   4,467       4,651       4,391       6,036   \n",
       "Indiana                      927       1,217       2,013       1,493   \n",
       "Iowa                         nan          67         178          96   \n",
       "Kansas                       nan         116         170          76   \n",
       "Kentucky                   1,210         230         589         511   \n",
       "Louisiana                    729       2,109       1,130       2,568   \n",
       "Maine                        nan         nan         nan         nan   \n",
       "Maryland                   9,096       9,694       6,713      12,798   \n",
       "Massachusetts             81,136      83,700      83,758      96,577   \n",
       "Michigan                   2,426       2,892       1,324       3,307   \n",
       "Minnesota                    845         828         830         314   \n",
       "Mississippi                  nan         nan         nan         543   \n",
       "Missouri                   1,091         964         573         726   \n",
       "Nebraska                     nan         111         nan         202   \n",
       "Nevada                       782       2,006       2,754       3,522   \n",
       "New Hampshire                nan         nan         nan       3,006   \n",
       "New Jersey               159,118     167,689     171,001     176,994   \n",
       "New Mexico                   156         864         958         171   \n",
       "New York                 602,285     659,962     630,742     678,881   \n",
       "North Carolina             4,597       7,138      10,254      12,693   \n",
       "Ohio                       4,199       4,235       1,459       5,593   \n",
       "Oklahoma                     422         145         317         723   \n",
       "Oregon                         0         226         463         597   \n",
       "Pennsylvania              29,446      36,091      35,694      47,653   \n",
       "Puerto Rico               66,117      69,854      64,922      72,157   \n",
       "Rhode Island              30,888      30,876      33,229      30,360   \n",
       "South Carolina             1,227         626       1,048       1,556   \n",
       "Tennessee                    654       1,872         712         464   \n",
       "Texas                     10,216       6,816      10,509      14,235   \n",
       "Utah                         415         694       1,923       1,012   \n",
       "Virginia                   5,627       5,531       6,868       9,433   \n",
       "Washington                 1,120         285       1,743         840   \n",
       "West Virginia                nan         nan         nan         nan   \n",
       "Wisconsin                  1,015       1,813         876         939   \n",
       "\n",
       "year                  2009-01-01  2010-01-01  2011-01-01  2012-01-01  \\\n",
       "name                                                                   \n",
       "Alabama                      616         600       1,100         963   \n",
       "Alaska                     3,351         nan         nan       1,990   \n",
       "Arizona                    3,980       2,693       2,757       1,968   \n",
       "Arkansas                     537         153         325         nan   \n",
       "California                10,327      11,079      14,286      18,626   \n",
       "Colorado                     737       1,869       2,600       2,639   \n",
       "Connecticut               27,686      28,242      23,466      34,754   \n",
       "Delaware                     nan       1,452       1,626       2,661   \n",
       "District of Columbia       1,161       2,649       2,529       3,681   \n",
       "Florida                  160,683     174,276     178,010     210,068   \n",
       "Georgia                   15,949      20,824      12,479      18,671   \n",
       "Hawaii                       nan         326         844       1,432   \n",
       "Idaho                        126         796         nan         203   \n",
       "Illinois                   7,546       5,311       9,599       5,515   \n",
       "Indiana                    2,188       3,172       2,344       3,073   \n",
       "Iowa                         735         439         165         377   \n",
       "Kansas                       202       1,025         719         627   \n",
       "Kentucky                     184       1,435       1,335       2,320   \n",
       "Louisiana                  2,757       2,311       6,145       6,193   \n",
       "Maine                        nan         nan         nan         nan   \n",
       "Maryland                  11,256      13,844      16,964      18,997   \n",
       "Massachusetts            105,610     118,656     115,741     121,552   \n",
       "Michigan                   2,689       4,009       4,774       5,874   \n",
       "Minnesota                    720       1,590       1,675       2,190   \n",
       "Mississippi                  719         426         nan         665   \n",
       "Missouri                   1,772       1,722       2,148       1,426   \n",
       "Nebraska                     nan         918         499         502   \n",
       "Nevada                     2,634       1,815       1,409       2,380   \n",
       "New Hampshire                nan         nan       2,014       2,693   \n",
       "New Jersey               168,229     204,699     221,623     233,065   \n",
       "New Mexico                   971         249         443       1,128   \n",
       "New York                 672,145     725,123     743,644     764,454   \n",
       "North Carolina            12,961      15,013      21,734      15,157   \n",
       "Ohio                       4,977       8,179       8,502       9,715   \n",
       "Oklahoma                     611         780         376       1,157   \n",
       "Oregon                       819       1,166       1,738         791   \n",
       "Pennsylvania              55,440      66,345      70,506      73,739   \n",
       "Puerto Rico               68,370      69,305      71,244      65,815   \n",
       "Rhode Island              41,368      45,277      37,147      37,481   \n",
       "South Carolina             1,236       2,091       2,798       5,891   \n",
       "Tennessee                  2,028       3,149       2,182       2,769   \n",
       "Texas                     12,807      13,038      14,195      14,925   \n",
       "Utah                         672         950       2,308       2,025   \n",
       "Virginia                   8,311      10,033      12,487      14,942   \n",
       "Washington                 1,353       1,289       2,382       2,870   \n",
       "West Virginia                nan         nan         nan         nan   \n",
       "Wisconsin                  1,136       2,414       1,896       3,001   \n",
       "\n",
       "year                  2013-01-01  2014-01-01  2015-01-01  2016-01-01  \\\n",
       "name                                                                   \n",
       "Alabama                      238       1,198       1,902         837   \n",
       "Alaska                       701       2,360         nan         nan   \n",
       "Arizona                    3,224       3,341       6,247       5,345   \n",
       "Arkansas                     182         366       1,744         329   \n",
       "California                16,458      15,157      16,098      14,778   \n",
       "Colorado                   2,275       1,638       3,068       2,634   \n",
       "Connecticut               36,699      30,408      38,047      41,917   \n",
       "Delaware                   1,906       2,274       4,443       3,760   \n",
       "District of Columbia       3,942       1,948       2,354       4,112   \n",
       "Florida                  198,197     216,202     207,193     221,070   \n",
       "Georgia                   23,237      19,014      24,102      23,223   \n",
       "Hawaii                       907         750       1,554       1,065   \n",
       "Idaho                        nan         nan          48       1,006   \n",
       "Illinois                   7,771       6,052       7,068       5,779   \n",
       "Indiana                    2,694       2,999       3,717       3,337   \n",
       "Iowa                       1,014         211         401         612   \n",
       "Kansas                       766       1,732         840         770   \n",
       "Kentucky                   1,458       1,862       1,262       1,015   \n",
       "Louisiana                  4,997       4,171       5,627       3,625   \n",
       "Maine                        nan       1,025         nan       1,843   \n",
       "Maryland                  21,352      20,155      14,956      20,906   \n",
       "Massachusetts            151,504     133,321     132,864     146,038   \n",
       "Michigan                   5,470       5,878       7,855       4,325   \n",
       "Minnesota                  1,162       2,665       1,511       4,237   \n",
       "Mississippi                1,080       1,170         847       1,772   \n",
       "Missouri                   2,811       2,775       1,579       1,982   \n",
       "Nebraska                     496         416         448         890   \n",
       "Nevada                     5,505       3,425       3,242       4,313   \n",
       "New Hampshire              6,228       6,023       6,001       5,809   \n",
       "New Jersey               240,871     255,013     276,707     271,169   \n",
       "New Mexico                   572         968       2,578       1,345   \n",
       "New York                 827,586     806,078     868,173     871,525   \n",
       "North Carolina            13,873      17,977      19,884      21,838   \n",
       "Ohio                       5,585      10,591       8,531       9,101   \n",
       "Oklahoma                     681       1,188         392       1,205   \n",
       "Oregon                       803         474         705         466   \n",
       "Pennsylvania              80,514      83,820      96,909     103,331   \n",
       "Puerto Rico               63,096      58,291      62,452      58,751   \n",
       "Rhode Island              46,266      46,422      50,274      52,771   \n",
       "South Carolina             6,088       3,985       4,582       4,202   \n",
       "Tennessee                  1,726       3,581       2,637       4,320   \n",
       "Texas                     12,914      21,482      18,868      17,507   \n",
       "Utah                       3,148       1,626       3,164       2,153   \n",
       "Virginia                   9,262      13,372      14,476      15,845   \n",
       "Washington                 2,298       2,821       3,449       2,371   \n",
       "West Virginia                349         464         232         nan   \n",
       "Wisconsin                  2,051       1,263       1,980       2,296   \n",
       "\n",
       "year                  2017-01-01  2018-01-01  2019-01-01  \n",
       "name                                                      \n",
       "Alabama                    1,327       1,356       2,959  \n",
       "Alaska                       nan         nan         nan  \n",
       "Arizona                    5,936       4,583       6,267  \n",
       "Arkansas                     153           0         563  \n",
       "California                18,381      19,305      16,422  \n",
       "Colorado                   4,870       3,371       4,920  \n",
       "Connecticut               40,343      50,399      46,228  \n",
       "Delaware                   3,672       4,386       2,163  \n",
       "District of Columbia       3,744       5,894       9,251  \n",
       "Florida                  259,779     237,844     254,148  \n",
       "Georgia                   31,014      22,927      28,172  \n",
       "Hawaii                     1,843         525       1,055  \n",
       "Idaho                        nan         nan       1,266  \n",
       "Illinois                   9,911       7,142       7,999  \n",
       "Indiana                    3,443       5,407       3,068  \n",
       "Iowa                         649         189         969  \n",
       "Kansas                     1,683       1,110       1,858  \n",
       "Kentucky                     856       1,161       1,452  \n",
       "Louisiana                  6,662       6,828       6,297  \n",
       "Maine                        nan         nan         661  \n",
       "Maryland                  24,969      26,503      22,606  \n",
       "Massachusetts            172,577     167,333     157,027  \n",
       "Michigan                   7,870       6,602       8,990  \n",
       "Minnesota                  2,767       1,604       2,091  \n",
       "Mississippi                2,904       2,173       3,135  \n",
       "Missouri                   2,520       1,211       3,028  \n",
       "Nebraska                     210         606         676  \n",
       "Nevada                     4,805       3,754       5,234  \n",
       "New Hampshire              8,223       9,471      10,197  \n",
       "New Jersey               301,655     311,213     343,725  \n",
       "New Mexico                 1,138         425         939  \n",
       "New York                 872,504     877,519     842,307  \n",
       "North Carolina            19,787      30,172      32,880  \n",
       "Ohio                      15,943      12,092       9,955  \n",
       "Oklahoma                   1,283       1,545       1,112  \n",
       "Oregon                       678       1,115       1,473  \n",
       "Pennsylvania             127,505     138,181     133,560  \n",
       "Puerto Rico               55,860      52,604      53,703  \n",
       "Rhode Island              52,070      52,645      55,220  \n",
       "South Carolina             3,275       5,355       4,988  \n",
       "Tennessee                  4,240       3,426       2,919  \n",
       "Texas                     27,648      24,409      24,427  \n",
       "Utah                         880       3,513       1,645  \n",
       "Virginia                  16,419      16,004      18,429  \n",
       "Washington                 5,544       2,855       2,579  \n",
       "West Virginia                nan         nan         nan  \n",
       "Wisconsin                  2,578       3,918       4,419  "
      ]
     },
     "execution_count": 28,
     "metadata": {},
     "output_type": "execute_result"
    }
   ],
   "source": [
    "df_pivot"
   ]
  },
  {
   "cell_type": "code",
   "execution_count": 116,
   "metadata": {},
   "outputs": [],
   "source": [
    "top_10_2019 = list(df_pivot['2019-01-01'].sort_values(ascending=False).head(10).index)"
   ]
  },
  {
   "cell_type": "code",
   "execution_count": 150,
   "metadata": {},
   "outputs": [
    {
     "data": {
      "text/plain": [
       "['New York',\n",
       " 'New Jersey',\n",
       " 'Florida',\n",
       " 'Massachusetts',\n",
       " 'Pennsylvania',\n",
       " 'Rhode Island',\n",
       " 'Puerto Rico',\n",
       " 'Connecticut',\n",
       " 'North Carolina',\n",
       " 'Georgia']"
      ]
     },
     "execution_count": 150,
     "metadata": {},
     "output_type": "execute_result"
    }
   ],
   "source": [
    "top_10_2019"
   ]
  },
  {
   "cell_type": "code",
   "execution_count": 139,
   "metadata": {},
   "outputs": [],
   "source": [
    "top_20_2019 = list(df_pivot['2019-01-01'].sort_values(ascending=False).head(20).index)"
   ]
  },
  {
   "cell_type": "code",
   "execution_count": 138,
   "metadata": {},
   "outputs": [
    {
     "data": {
      "text/plain": [
       "MultiIndex([(   'Connecticut', '2017-01-01'),\n",
       "            (   'Connecticut', '2018-01-01'),\n",
       "            (   'Connecticut', '2019-01-01'),\n",
       "            (       'Florida', '2017-01-01'),\n",
       "            (       'Florida', '2018-01-01'),\n",
       "            (       'Florida', '2019-01-01'),\n",
       "            (       'Georgia', '2017-01-01'),\n",
       "            (       'Georgia', '2018-01-01'),\n",
       "            (       'Georgia', '2019-01-01'),\n",
       "            ( 'Massachusetts', '2017-01-01'),\n",
       "            ( 'Massachusetts', '2018-01-01'),\n",
       "            ( 'Massachusetts', '2019-01-01'),\n",
       "            (    'New Jersey', '2017-01-01'),\n",
       "            (    'New Jersey', '2018-01-01'),\n",
       "            (    'New Jersey', '2019-01-01'),\n",
       "            (      'New York', '2017-01-01'),\n",
       "            (      'New York', '2018-01-01'),\n",
       "            (      'New York', '2019-01-01'),\n",
       "            ('North Carolina', '2017-01-01'),\n",
       "            ('North Carolina', '2018-01-01'),\n",
       "            ('North Carolina', '2019-01-01'),\n",
       "            (  'Pennsylvania', '2017-01-01'),\n",
       "            (  'Pennsylvania', '2018-01-01'),\n",
       "            (  'Pennsylvania', '2019-01-01'),\n",
       "            (   'Puerto Rico', '2017-01-01'),\n",
       "            (   'Puerto Rico', '2018-01-01'),\n",
       "            (   'Puerto Rico', '2019-01-01'),\n",
       "            (  'Rhode Island', '2017-01-01'),\n",
       "            (  'Rhode Island', '2018-01-01'),\n",
       "            (  'Rhode Island', '2019-01-01')],\n",
       "           names=['name', 'year'])"
      ]
     },
     "execution_count": 138,
     "metadata": {},
     "output_type": "execute_result"
    }
   ],
   "source": [
    "df_pivot.loc[df_pivot.index.isin(top_10_2019), '2016':'2019'].diff(axis=1).stack().index"
   ]
  },
  {
   "cell_type": "code",
   "execution_count": 149,
   "metadata": {},
   "outputs": [
    {
     "data": {
      "image/png": "[encoded data removed]",
      "text/plain": [
       "<Figure size 1440x720 with 1 Axes>"
      ]
     },
     "metadata": {
      "needs_background": "light"
     },
     "output_type": "display_data"
    }
   ],
   "source": [
    "plt.figure(figsize=(20,10))\n",
    "df_pivot.loc[df_pivot.index.isin(top_10_2019), '2016':'2019'].diff(axis=1).stack().plot(kind='bar')\n",
    "plt.show()"
   ]
  },
  {
   "cell_type": "code",
   "execution_count": 147,
   "metadata": {},
   "outputs": [
    {
     "data": {
      "image/png": "[encoded data removed]",
      "text/plain": [
       "<Figure size 1440x720 with 1 Axes>"
      ]
     },
     "metadata": {
      "needs_background": "light"
     },
     "output_type": "display_data"
    }
   ],
   "source": [
    "plt.figure(figsize=(20,10))\n",
    "df_pivot.loc[df_pivot.index.isin(top_20_2019), '2016':'2019'].diff(axis=1).stack().plot(kind='bar')\n",
    "plt.show()"
   ]
  },
  {
   "cell_type": "code",
   "execution_count": 103,
   "metadata": {},
   "outputs": [
    {
     "data": {
      "text/plain": [
       "name        year      \n",
       "Alabama     2017-01-01      490\n",
       "            2018-01-01       29\n",
       "            2019-01-01    1,603\n",
       "Arizona     2017-01-01      591\n",
       "            2018-01-01   -1,353\n",
       "                          ...  \n",
       "Washington  2018-01-01   -2,689\n",
       "            2019-01-01     -276\n",
       "Wisconsin   2017-01-01      282\n",
       "            2018-01-01    1,340\n",
       "            2019-01-01      501\n",
       "Length: 129, dtype: float64"
      ]
     },
     "execution_count": 103,
     "metadata": {},
     "output_type": "execute_result"
    }
   ],
   "source": [
    "df_pivot_2017_2019_diff = df_pivot.diff(axis=1).loc[:,'2017':'2019']\n",
    "df_pivot_2017_2019_diff.stack()"
   ]
  },
  {
   "cell_type": "code",
   "execution_count": 29,
   "metadata": {},
   "outputs": [],
   "source": [
    "df_pivot_diff = df_pivot.diff(axis=1)"
   ]
  },
  {
   "cell_type": "code",
   "execution_count": 49,
   "metadata": {},
   "outputs": [],
   "source": [
    "top_20_states_2019 = list(df_2019.sort_values('total_dominican_pop', ascending=False).head(20)['name'])"
   ]
  },
  {
   "cell_type": "code",
   "execution_count": 57,
   "metadata": {},
   "outputs": [
    {
     "data": {
      "text/plain": [
       "[]"
      ]
     },
     "execution_count": 57,
     "metadata": {},
     "output_type": "execute_result"
    }
   ],
   "source": [
    "top_20_states_2019"
   ]
  },
  {
   "cell_type": "code",
   "execution_count": 52,
   "metadata": {},
   "outputs": [],
   "source": [
    "df_2019 = df[df.index == 2019][['name', 'total_dominican_pop']].dropna()\n",
    "df_2019 = df_2019.sort_values('total_dominican_pop', ascending=False)"
   ]
  },
  {
   "cell_type": "code",
   "execution_count": 53,
   "metadata": {},
   "outputs": [],
   "source": [
    "df_top_20_15_to_19 = df[df['name'].isin(top_20_states_2019)]['2015':'2019']"
   ]
  },
  {
   "cell_type": "code",
   "execution_count": 54,
   "metadata": {},
   "outputs": [],
   "source": [
    "df_top_20_15_to_19_pivot = df_top_20_15_to_19.pivot_table(values='total_dominican_pop', index='name', columns='year')"
   ]
  },
  {
   "cell_type": "code",
   "execution_count": 55,
   "metadata": {},
   "outputs": [],
   "source": [
    "df_top_20_15_to_19_pivot_diff = df_top_20_15_to_19_pivot.diff(axis=1)"
   ]
  },
  {
   "cell_type": "code",
   "execution_count": 56,
   "metadata": {},
   "outputs": [
    {
     "data": {
      "text/html": [
       "<div>\n",
       "<style scoped>\n",
       "    .dataframe tbody tr th:only-of-type {\n",
       "        vertical-align: middle;\n",
       "    }\n",
       "\n",
       "    .dataframe tbody tr th {\n",
       "        vertical-align: top;\n",
       "    }\n",
       "\n",
       "    .dataframe thead tr th {\n",
       "        text-align: left;\n",
       "    }\n",
       "\n",
       "    .dataframe thead tr:last-of-type th {\n",
       "        text-align: right;\n",
       "    }\n",
       "</style>\n",
       "<table border=\"1\" class=\"dataframe\">\n",
       "  <thead>\n",
       "    <tr>\n",
       "      <th>name</th>\n",
       "    </tr>\n",
       "  </thead>\n",
       "  <tbody>\n",
       "  </tbody>\n",
       "</table>\n",
       "</div>"
      ],
      "text/plain": [
       "Empty DataFrame\n",
       "Columns: []\n",
       "Index: []"
      ]
     },
     "execution_count": 56,
     "metadata": {},
     "output_type": "execute_result"
    }
   ],
   "source": [
    "df_top_20_15_to_19_pivot_diff"
   ]
  },
  {
   "cell_type": "code",
   "execution_count": 38,
   "metadata": {},
   "outputs": [
    {
     "ename": "SyntaxError",
     "evalue": "invalid syntax (<ipython-input-38-a4a9dd5cf3dd>, line 1)",
     "output_type": "error",
     "traceback": [
      "\u001b[1;36m  File \u001b[1;32m\"<ipython-input-38-a4a9dd5cf3dd>\"\u001b[1;36m, line \u001b[1;32m1\u001b[0m\n\u001b[1;33m    pd.melt(df_top_20_15_to_19_pivot_diff, id_vars=['year'], value_vars= )\u001b[0m\n\u001b[1;37m                                                                         ^\u001b[0m\n\u001b[1;31mSyntaxError\u001b[0m\u001b[1;31m:\u001b[0m invalid syntax\n"
     ]
    }
   ],
   "source": [
    "pd.melt(df_top_20_15_to_19_pivot_diff, id_vars=['year'], value_vars= )"
   ]
  },
  {
   "cell_type": "code",
   "execution_count": 39,
   "metadata": {},
   "outputs": [
    {
     "ename": "NameError",
     "evalue": "name 'flattend' is not defined",
     "output_type": "error",
     "traceback": [
      "\u001b[1;31m---------------------------------------------------------------------------\u001b[0m",
      "\u001b[1;31mNameError\u001b[0m                                 Traceback (most recent call last)",
      "\u001b[1;32m<ipython-input-39-52cbc5eae0c9>\u001b[0m in \u001b[0;36m<module>\u001b[1;34m\u001b[0m\n\u001b[1;32m----> 1\u001b[1;33m \u001b[0mflattend\u001b[0m\u001b[1;33m.\u001b[0m\u001b[0mcolumns\u001b[0m\u001b[1;33m\u001b[0m\u001b[1;33m\u001b[0m\u001b[0m\n\u001b[0m",
      "\u001b[1;31mNameError\u001b[0m: name 'flattend' is not defined"
     ]
    }
   ],
   "source": [
    "flattend.columns"
   ]
  },
  {
   "cell_type": "code",
   "execution_count": 40,
   "metadata": {},
   "outputs": [
    {
     "data": {
      "text/plain": [
       "[]"
      ]
     },
     "execution_count": 40,
     "metadata": {},
     "output_type": "execute_result"
    }
   ],
   "source": [
    "top_20_states_2019"
   ]
  },
  {
   "cell_type": "code",
   "execution_count": 41,
   "metadata": {
    "scrolled": true
   },
   "outputs": [
    {
     "data": {
      "text/plain": [
       "[]"
      ]
     },
     "execution_count": 41,
     "metadata": {},
     "output_type": "execute_result"
    },
    {
     "data": {
      "image/png": "[encoded data removed]",
      "text/plain": [
       "<Figure size 1152x216 with 1 Axes>"
      ]
     },
     "metadata": {
      "needs_background": "light"
     },
     "output_type": "display_data"
    }
   ],
   "source": [
    "\n",
    "\n",
    "# df[df.name == 'New York'].plot(y='total_dominican_pop')\n",
    "fig, ax = plt.subplots(figsize=(16,3))\n",
    "\n",
    "ax.plot(data=df)"
   ]
  },
  {
   "cell_type": "code",
   "execution_count": 44,
   "metadata": {},
   "outputs": [
    {
     "data": {
      "text/plain": [
       "[]"
      ]
     },
     "execution_count": 44,
     "metadata": {},
     "output_type": "execute_result"
    }
   ],
   "source": [
    "top_20_states_2019"
   ]
  },
  {
   "cell_type": "code",
   "execution_count": null,
   "metadata": {},
   "outputs": [],
   "source": []
  },
  {
   "cell_type": "code",
   "execution_count": null,
   "metadata": {},
   "outputs": [],
   "source": []
  }
 ],
 "metadata": {
  "kernelspec": {
   "display_name": "Python 3",
   "language": "python",
   "name": "python3"
  },
  "language_info": {
   "codemirror_mode": {
    "name": "ipython",
    "version": 3
   },
   "file_extension": ".py",
   "mimetype": "text/x-python",
   "name": "python",
   "nbconvert_exporter": "python",
   "pygments_lexer": "ipython3",
   "version": "3.8.3"
  },
  "toc": {
   "base_numbering": 1,
   "nav_menu": {},
   "number_sections": true,
   "sideBar": true,
   "skip_h1_title": false,
   "title_cell": "Table of Contents",
   "title_sidebar": "Contents",
   "toc_cell": false,
   "toc_position": {},
   "toc_section_display": true,
   "toc_window_display": false
  }
 },
 "nbformat": 4,
 "nbformat_minor": 4
}
